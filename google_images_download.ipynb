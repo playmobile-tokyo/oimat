{
  "nbformat": 4,
  "nbformat_minor": 0,
  "metadata": {
    "colab": {
      "name": "google_images_download.ipynb",
      "provenance": [],
      "collapsed_sections": [],
      "toc_visible": true
    },
    "kernelspec": {
      "name": "python3",
      "display_name": "Python 3"
    },
    "language_info": {
      "name": "python"
    }
  },
  "cells": [
    {
      "cell_type": "code",
      "metadata": {
        "colab": {
          "base_uri": "https://localhost:8080/"
        },
        "id": "naqcVZ-a69IK",
        "outputId": "20f4004a-7b89-4039-9b93-f95439bc637d"
      },
      "source": [
        "pip install google_images_download"
      ],
      "execution_count": 11,
      "outputs": [
        {
          "output_type": "stream",
          "text": [
            "Requirement already satisfied: google_images_download in /usr/local/lib/python3.7/dist-packages (2.8.0)\n",
            "Requirement already satisfied: selenium in /usr/local/lib/python3.7/dist-packages (from google_images_download) (3.141.0)\n",
            "Requirement already satisfied: urllib3 in /usr/local/lib/python3.7/dist-packages (from selenium->google_images_download) (1.24.3)\n"
          ],
          "name": "stdout"
        }
      ]
    },
    {
      "cell_type": "code",
      "metadata": {
        "colab": {
          "base_uri": "https://localhost:8080/"
        },
        "id": "20g903J17EqG",
        "outputId": "5e79a340-a681-404e-c0a2-23b902428bee"
      },
      "source": [
        "import urllib.request\n",
        "urllib.request.urlretrieve(\"https://github.com/Joeclinton1/google-images-download/archive/refs/heads/patch-1.zip\",\"{0}\".format(\"gid-joeclinton.zip\"))"
      ],
      "execution_count": 12,
      "outputs": [
        {
          "output_type": "execute_result",
          "data": {
            "text/plain": [
              "('gid-joeclinton.zip', <http.client.HTTPMessage at 0x7f3ff62f2b10>)"
            ]
          },
          "metadata": {
            "tags": []
          },
          "execution_count": 12
        }
      ]
    },
    {
      "cell_type": "markdown",
      "metadata": {
        "id": "GFT-hlkr-zUX"
      },
      "source": [
        "\n",
        "\n",
        "---\n",
        "\n"
      ]
    },
    {
      "cell_type": "code",
      "metadata": {
        "id": "AxRu_gAx-kgQ"
      },
      "source": [
        "import zipfile\n",
        "zip_f = zipfile.ZipFile('./gid-joeclinton.zip')\n",
        "zip_f.extractall('./')\n",
        "zip_f.close()"
      ],
      "execution_count": 19,
      "outputs": []
    },
    {
      "cell_type": "code",
      "metadata": {
        "colab": {
          "base_uri": "https://localhost:8080/"
        },
        "id": "-URzoKah_jNA",
        "outputId": "4582ff6a-772c-4b2e-c4b1-df64d0278995"
      },
      "source": [
        "pip install -e ./google-images-download-patch-1"
      ],
      "execution_count": 21,
      "outputs": [
        {
          "output_type": "stream",
          "text": [
            "Obtaining file:///content/google-images-download-patch-1\n",
            "Requirement already satisfied: selenium in /usr/local/lib/python3.7/dist-packages (from google-images-download==2.8.0) (3.141.0)\n",
            "Requirement already satisfied: urllib3 in /usr/local/lib/python3.7/dist-packages (from selenium->google-images-download==2.8.0) (1.24.3)\n",
            "Installing collected packages: google-images-download\n",
            "  Found existing installation: google-images-download 2.8.0\n",
            "    Uninstalling google-images-download-2.8.0:\n",
            "      Successfully uninstalled google-images-download-2.8.0\n",
            "  Running setup.py develop for google-images-download\n",
            "Successfully installed google-images-download\n"
          ],
          "name": "stdout"
        }
      ]
    },
    {
      "cell_type": "code",
      "metadata": {
        "id": "o0mE8-1pgP0J"
      },
      "source": [
        "keyword = \"食卓\"\n",
        "download_path = \"./downloads/\" + keyword"
      ],
      "execution_count": 39,
      "outputs": []
    },
    {
      "cell_type": "code",
      "metadata": {
        "colab": {
          "base_uri": "https://localhost:8080/"
        },
        "id": "RvzES0qYBVEy",
        "outputId": "db796557-4015-4ecd-bff8-c7b57a8536c8"
      },
      "source": [
        "!googleimagesdownload -k $keyword"
      ],
      "execution_count": 40,
      "outputs": [
        {
          "output_type": "stream",
          "text": [
            "\n",
            "Item no.: 1 --> Item name = \\u98df\\u5353\n",
            "Evaluating...\n",
            "Starting Download...\n",
            "Completed Image ====> 1.338522082f774606b0a2cc0f5069762b_1352w_1124h.jpg\n",
            "Completed Image ====> 2.6eba40a478d0450583d585be36679b64_4096w_2967h.jpg\n",
            "Completed Image ====> 3.cbeaa028866dfe16043b435.jpg\n",
            "Completed Image ====> 4.0.jpg\n",
            "Completed Image ====> 5.22a58009-15cf-49c0-bc79-fa7558de7f47.jpg\n",
            "Completed Image ====> 6.s_0n5g.jpg\n",
            "Completed Image ====> 7.901117926_1280x720.jpg\n",
            "Completed Image ====> 8.caption.jpg\n",
            "Invalid image format 'text/html'. Skipping...\n",
            "Completed Image ====> 9.1-2-e1560311970102.jpg\n",
            "Completed Image ====> 10.27450283860_fb9625951e_n.jpg\n",
            "Completed Image ====> 11.a22fc3e491b5df0f.jpg\n",
            "Completed Image ====> 12.640x640_rect_114675148.jpg\n",
            "Completed Image ====> 13.0.jpg\n",
            "Completed Image ====> 14.caption.jpg\n",
            "Completed Image ====> 15.s_0n5m.jpg\n",
            "Completed Image ====> 16.xianzhecn28rnxinxi-1.jpg\n",
            "Invalid image format 'text/html'. Skipping...\n",
            "Completed Image ====> 17.acdc981cb0991cb0c2c558123ceedce2adf38f20.jpg\n",
            "Completed Image ====> 18.bbd2383f35d93012c9bd5dcd520632f0_750x750.webp.jpg\n",
            "Completed Image ====> 19.640x640_rect_119348895.jpg\n",
            "Invalid image format 'text/html'. Skipping...\n",
            "Completed Image ====> 20.f4ef8c24-4cdd-49d7-88cc-c6dbe236edbe.jpg\n",
            "Completed Image ====> 21.top-20200424_01.jpg\n",
            "Completed Image ====> 22.16b354c140f9269a.jpg_480x360x95_0027e116.jpg\n",
            "Completed Image ====> 23.af492ff635c046f15832274.jpg_1080_1080_2_e6aeb5e6aeb5e788b1e59083e882897c5553_bcc8.jpg\n",
            "Completed Image ====> 24.20130301+%e7%94%b0%e8%88%8d%e4%b9%8b%e9%a3%9f%e5%8d%93+%e5%b0%8f%e8%8f%9c02.jpg\n",
            "Completed Image ====> 25.r0013180.jpg\n",
            "Completed Image ====> 26.45e6c60f64e48c20.jpg\n",
            "Invalid image format 'text/html'. Skipping...\n",
            "Completed Image ====> 27.20210206220447_15.jpg\n",
            "Completed Image ====> 28.d38bc1aa1d445437.jpg_480x360x95_fad166cc.jpg\n",
            "Invalid image format 'text/html'. Skipping...\n",
            "Completed Image ====> 29.qq%e6%88%aa%e5%9b%be20170516173646.png\n",
            "Invalid image format 'text/html'. Skipping...\n",
            "Completed Image ====> 30.shokutaku-main-sp.jpg\n",
            "Completed Image ====> 31.s_0n7o.jpg\n",
            "Completed Image ====> 32.%e8%af%a6%e6%83%85%e5%9b%be%20(21).jpg\n",
            "Completed Image ====> 33.316798934_38cfc319a8_n.jpg\n",
            "Completed Image ====> 34.81pnp8tiusl.jpg\n",
            "Completed Image ====> 35.thumbnail.png\n",
            "Completed Image ====> 36.72f77a425e1ec47a.jpg\n",
            "Invalid image format 'text/html'. Skipping...\n",
            "Invalid image format 'application/octet-stream'. Skipping...\n",
            "Completed Image ====> 37.43e5291da1a53d356a4fe5063183f739.jpg\n",
            "Completed Image ====> 38.b8a4db11495fe3982497a143b6e83e6c_625x625.webp.jpg\n",
            "Completed Image ====> 39.fb43595956f52f1f9da01039f15c021b2dd1705f.png\n",
            "Completed Image ====> 40.111ff67f186e5d75433c81ae98c44abd.jpg\n",
            "URLError on an image...trying next one... Error: HTTP Error 403: Forbidden\n",
            "Completed Image ====> 41.5790533970_41399d6836_z.jpg\n",
            "Completed Image ====> 42.20180103233435_32.jpg\n",
            "Completed Image ====> 43.9915a23bcc3f40a87d679fc18e6282d3.jpg\n",
            "Invalid image format 'application/octet-stream'. Skipping...\n",
            "Completed Image ====> 44.a34175423776df1333588dc.jpg_600_0_3_171b.jpg\n",
            "Completed Image ====> 45.640x640_rect_103754836.jpg\n",
            "Completed Image ====> 46.1526437212-1643010834.jpg\n",
            "Completed Image ====> 47.61t6y-epoxl._ac_sl1000_.jpg\n",
            "Completed Image ====> 48.3993371686_bee1787802_b.jpg\n",
            "Completed Image ====> 49.main_p.png\n",
            "Completed Image ====> 50.20181029072723_87.jpg\n",
            "Completed Image ====> 51.1592814438627.jpg\n",
            "Completed Image ====> 52.o1cn018cviin1p9wlkkrm3s_!!0-item_pic.jpg\n",
            "Completed Image ====> 53.h0123001_h0888001_s_10132212_180426125439_01_1200.jpg\n",
            "IOError on an image...trying next one... Error: The read operation timed out\n",
            "Completed Image ====> 54.735accaa95cb895a.jpg\n",
            "Completed Image ====> 55.image.ashx.jpg\n",
            "Completed Image ====> 56.20190105121859_79.jpg\n",
            "Completed Image ====> 57.20210126112239_31.jpg\n",
            "Completed Image ====> 58.8397546232_77691d5d2f_n.jpg\n",
            "Invalid image format 'text/html'. Skipping...\n",
            "Completed Image ====> 59.img_f3f51315ab1187c0bb0adcc7a385291551354.jpg\n",
            "Completed Image ====> 60.28.jpg\n",
            "Completed Image ====> 61.ad1eaa4f6bc5f556add83351d8ba0e8b.jpg\n",
            "Completed Image ====> 62.564_.jpeg\n",
            "Completed Image ====> 63.53555422._sx318_.jpg\n",
            "Completed Image ====> 64.s_0ndn.jpg\n",
            "Completed Image ====> 65.3.jpg\n",
            "Completed Image ====> 66.%e8%af%a6%e6%83%85%e5%9b%be%20(4).jpg\n",
            "Completed Image ====> 67.shokutaku-main2.jpg\n",
            "Invalid image format 'text/html'. Skipping...\n",
            "Completed Image ====> 68.o1cn01cfsqbw23pjswpgj7l_!!0-item_pic.jpg\n",
            "Completed Image ====> 69.0.jpg\n",
            "Completed Image ====> 70.4067f936c84f0c80.jpg\n",
            "Completed Image ====> 71.1553491585-e98babe83561be7badbd2b52db1a21af.jpg\n",
            "Completed Image ====> 72.20210315135828-147de3dd.jpg\n",
            "Completed Image ====> 73.178px-%e7%a8%80%e7%a5%9e%e3%82%b5%e3%82%b0%e3%83%a1%e3%81%ae%e9%a3%9f%e5%8d%93%e3%81%af%e4%b9%b1%e3%82%8c%e3%81%aa%e3%81%84%e5%b0%81%e9%9d%a2.jpg\n",
            "Completed Image ====> 74.67c69b94ly1fsqgt7rtrxj20ku593npd.jpg\n",
            "Completed Image ====> 75.20180319-wisemansdininghk.jpg\n",
            "Completed Image ====> 76.nabe_20181031_140.jpg\n",
            "Completed Image ====> 77.maxresdefault.jpg\n",
            "Completed Image ====> 78.2019112715405748724.jpg\n",
            "Completed Image ====> 79.2cf99ee3cfec98221565716de6de26a48f2da1f4.jpg\n",
            "Completed Image ====> 80.tihndmd2dkvsepplrycskqhhytvj-tgmizh5-jha6wpqrkdycjhmt0p6k-cn4gkzbkcq9vneagy3xlef-_v_oa.jpg\n",
            "Completed Image ====> 81.57b348eb5a336c26f47943177472a6da.jpg\n",
            "Completed Image ====> 82.20170302-mat-04.jpg\n",
            "Completed Image ====> 83.128764303_1871084539697251_5111472437738493762_o-768x641.jpg\n",
            "Completed Image ====> 84.ff28ef5b-cbb6-4a70-b764-ceac0ab68879.jpeg\n",
            "Completed Image ====> 85.%e8%af%a6%e6%83%85%e5%9b%be%20(1).jpg\n",
            "Invalid image format 'application/octet-stream'. Skipping...\n",
            "Invalid image format 'text/html'. Skipping...\n",
            "\n",
            "\n",
            "Unfortunately all 100 could not be downloaded because some images were not downloadable. 85 is all we got for this search filter!\n",
            "\n",
            "Errors: 15\n",
            "\n",
            "\n",
            "Everything downloaded!\n",
            "Total errors: 15\n",
            "Total time taken: 137.57379460334778 Seconds\n"
          ],
          "name": "stdout"
        }
      ]
    },
    {
      "cell_type": "code",
      "metadata": {
        "id": "YW5PMREcYUAG"
      },
      "source": [
        "import os\n",
        "import glob\n",
        "import cv2\n",
        "import numpy as np\n",
        "import datetime\n",
        "\n",
        "now = datetime.datetime.now()\n",
        "ymdhms = \"{0:_%Y%m%d_%H%M%S_}\".format(now)\n",
        "\n",
        "files = glob.glob(download_path + '/*')\n",
        "for i, f in enumerate(files):\n",
        "    ftitle, fext = os.path.splitext(f)\n",
        "    if fext == '.jpeg':\n",
        "      fext = '.jpg'\n",
        "    if fext == '.jpg':\n",
        "      im = cv2.imread(f)\n",
        "      im_gray = cv2.cvtColor(im, cv2.COLOR_BGR2GRAY)\n",
        "      cv2.imwrite(f, im_gray)\n",
        "      os.rename(f, os.path.join(download_path, keyword + ymdhms + '{0:03d}'.format(i) + fext))\n",
        "    else:\n",
        "      os.remove(f)"
      ],
      "execution_count": 41,
      "outputs": []
    },
    {
      "cell_type": "code",
      "metadata": {
        "id": "FKt7ahkraHbL"
      },
      "source": [
        "import os\n",
        "import glob\n",
        "from PIL import Image\n",
        "\n",
        "img_files = glob.glob(download_path + '/*.jpg')\n",
        "width = 150\n",
        "height = 150\n",
        "\n",
        "for f in img_files:\n",
        "    img = Image.open(f)\n",
        "    img_resize = img.resize((width,height))\n",
        "    fname, fext = os.path.splitext(f)\n",
        "    img_resize.save(fname + fext)\n"
      ],
      "execution_count": 42,
      "outputs": []
    }
  ]
}